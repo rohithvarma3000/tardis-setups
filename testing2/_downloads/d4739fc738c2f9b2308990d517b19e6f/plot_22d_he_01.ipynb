{
  "cells": [
    {
      "cell_type": "code",
      "execution_count": null,
      "metadata": {
        "collapsed": false
      },
      "outputs": [],
      "source": [
        "%matplotlib inline"
      ]
    },
    {
      "cell_type": "markdown",
      "metadata": {},
      "source": [
        "\n# Tardis 2020 Example\n\nThis is the example output 22d he 01\n"
      ]
    },
    {
      "cell_type": "code",
      "execution_count": null,
      "metadata": {
        "collapsed": false
      },
      "outputs": [],
      "source": [
        "from tardis import run_tardis\nfrom tardis.io.config_reader import Configuration\nfrom tardis.io.atom_data.util import download_atom_data\nimport matplotlib.pyplot as plt\n\nimport sys\n\nsys.path.append(\"../\")\nfrom setup_utils import config_modifier"
      ]
    },
    {
      "cell_type": "markdown",
      "metadata": {},
      "source": [
        "Uncomment this line if you need to download the dataset.\n\n"
      ]
    },
    {
      "cell_type": "code",
      "execution_count": null,
      "metadata": {
        "collapsed": false
      },
      "outputs": [],
      "source": [
        "download_atom_data(\"kurucz_cd23_chianti_H_He\")"
      ]
    },
    {
      "cell_type": "markdown",
      "metadata": {},
      "source": [
        "Runs the example\n\n"
      ]
    },
    {
      "cell_type": "code",
      "execution_count": null,
      "metadata": {
        "collapsed": false
      },
      "outputs": [],
      "source": [
        "conf = Configuration.from_yaml(\"../../2020/2020_williamson_94I/he_setups/22d_he_01.yml\")\nconf = config_modifier(conf)"
      ]
    },
    {
      "cell_type": "code",
      "execution_count": null,
      "metadata": {
        "collapsed": false
      },
      "outputs": [],
      "source": [
        "sim = run_tardis(conf)\n\n\nspectrum = sim.runner.spectrum\nspectrum_virtual = sim.runner.spectrum_virtual\nspectrum_integrated = sim.runner.spectrum_integrated\n\nplt.figure(figsize=(10, 6.5))\n\nspectrum.plot(label=\"Normal packets\")\nspectrum_virtual.plot(label=\"Virtual packets\")\nspectrum_integrated.plot(label=\"Formal integral\")\n\nplt.xlim(500, 9000)\nplt.title(\"TARDIS example model spectrum\")\nplt.xlabel(\"Wavelength [$\\AA$]\")\nplt.ylabel(\"Luminosity density [erg/s/$\\AA$]\")\nplt.legend()\nplt.show()"
      ]
    }
  ],
  "metadata": {
    "kernelspec": {
      "display_name": "Python 3",
      "language": "python",
      "name": "python3"
    },
    "language_info": {
      "codemirror_mode": {
        "name": "ipython",
        "version": 3
      },
      "file_extension": ".py",
      "mimetype": "text/x-python",
      "name": "python",
      "nbconvert_exporter": "python",
      "pygments_lexer": "ipython3",
      "version": "3.8.13"
    }
  },
  "nbformat": 4,
  "nbformat_minor": 0
}