{
  "cells": [
    {
      "cell_type": "code",
      "execution_count": null,
      "metadata": {
        "collapsed": false
      },
      "outputs": [],
      "source": [
        "%matplotlib inline"
      ]
    },
    {
      "cell_type": "markdown",
      "metadata": {},
      "source": [
        "\n# Williamson et al. (2020) Figure 2 t_explosion=16 days\n\n\nArticle: Williamson, Marc, Kerzendorf, Wolfgang, Modjaz, Maryam 2021, ApJ,\n\u201cModeling Type Ic Supernovae with TARDIS: Hidden Helium in SN 1994I?\u201d (`ADS Link`_).\n\nOriginal Input Files: `YAML`_, `CSVY`_\n\nOriginal Atomic Dataset: Data missing\n\nOriginal Spectra: Data missing\n\nNotes: Please note that the spectra obtained below is obtained by using a slightly\nmodified configuration file. This is done to ensure that the spectra can be\nobtained using the computers hosted by us.\n\n"
      ]
    },
    {
      "cell_type": "code",
      "execution_count": null,
      "metadata": {
        "collapsed": false
      },
      "outputs": [],
      "source": [
        "from tardis import run_tardis\nfrom tardis.io.config_reader import Configuration\nfrom tardis.io.atom_data.util import download_atom_data\nimport matplotlib.pyplot as plt\n\nimport sys\n\nsys.path.append(\"../\")\nfrom setup_utils import config_modifier"
      ]
    },
    {
      "cell_type": "markdown",
      "metadata": {},
      "source": [
        "Comment this line if you do not need to download the dataset.\n\n"
      ]
    },
    {
      "cell_type": "code",
      "execution_count": null,
      "metadata": {
        "collapsed": false
      },
      "outputs": [],
      "source": [
        "download_atom_data(\"kurucz_cd23_chianti_H_He\")"
      ]
    },
    {
      "cell_type": "code",
      "execution_count": null,
      "metadata": {
        "collapsed": false
      },
      "outputs": [],
      "source": [
        "conf = Configuration.from_yaml(\n    \"../../2020/2020_williamson_94I/code_comp_setups/16d.yml\"\n)"
      ]
    },
    {
      "cell_type": "markdown",
      "metadata": {},
      "source": [
        "Note: Here the configuration is slightly modified to allow\nthe configuration file on a computer with lower configuration.\n\n"
      ]
    },
    {
      "cell_type": "code",
      "execution_count": null,
      "metadata": {
        "collapsed": false
      },
      "outputs": [],
      "source": [
        "conf = config_modifier(conf)"
      ]
    },
    {
      "cell_type": "code",
      "execution_count": null,
      "metadata": {
        "collapsed": false
      },
      "outputs": [],
      "source": [
        "sim = run_tardis(conf)\n\n\nspectrum = sim.runner.spectrum\nspectrum_virtual = sim.runner.spectrum_virtual\nspectrum_integrated = sim.runner.spectrum_integrated\n\nplt.figure(figsize=(10, 6.5))\n\nspectrum.plot(label=\"Normal packets\")\nspectrum_virtual.plot(label=\"Virtual packets\")\nspectrum_integrated.plot(label=\"Formal integral\")\n\nplt.xlim(500, 9000)\nplt.title(\"TARDIS example model spectrum\")\nplt.xlabel(\"Wavelength [$\\AA$]\")\nplt.ylabel(\"Luminosity density [erg/s/$\\AA$]\")\nplt.legend()\nplt.show()"
      ]
    }
  ],
  "metadata": {
    "kernelspec": {
      "display_name": "Python 3",
      "language": "python",
      "name": "python3"
    },
    "language_info": {
      "codemirror_mode": {
        "name": "ipython",
        "version": 3
      },
      "file_extension": ".py",
      "mimetype": "text/x-python",
      "name": "python",
      "nbconvert_exporter": "python",
      "pygments_lexer": "ipython3",
      "version": "3.8.13"
    }
  },
  "nbformat": 4,
  "nbformat_minor": 0
}