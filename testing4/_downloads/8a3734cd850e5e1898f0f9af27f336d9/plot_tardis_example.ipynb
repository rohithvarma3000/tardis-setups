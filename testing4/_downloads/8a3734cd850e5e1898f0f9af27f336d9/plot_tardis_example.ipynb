{
  "cells": [
    {
      "cell_type": "code",
      "execution_count": null,
      "metadata": {
        "collapsed": false
      },
      "outputs": [],
      "source": [
        "%matplotlib inline"
      ]
    },
    {
      "cell_type": "markdown",
      "metadata": {},
      "source": [
        "\n# Tardis 2014 Example\n\nThis is the example output\n"
      ]
    },
    {
      "cell_type": "code",
      "execution_count": null,
      "metadata": {
        "collapsed": false
      },
      "outputs": [],
      "source": [
        "from tardis import run_tardis\nfrom tardis.io.config_reader import Configuration\nfrom tardis.io.atom_data.util import download_atom_data\nimport matplotlib.pyplot as plt\n\nimport sys\n\nsys.path.append(\"../\")\nfrom setup_utils import config_modifier"
      ]
    },
    {
      "cell_type": "markdown",
      "metadata": {},
      "source": [
        "Uncomment this line if you need to download the dataset.\n\n"
      ]
    },
    {
      "cell_type": "code",
      "execution_count": null,
      "metadata": {
        "collapsed": false
      },
      "outputs": [],
      "source": [
        "download_atom_data(\"kurucz_cd23_chianti_H_He\")"
      ]
    },
    {
      "cell_type": "markdown",
      "metadata": {},
      "source": [
        "Runs the example\n\n"
      ]
    },
    {
      "cell_type": "code",
      "execution_count": null,
      "metadata": {
        "collapsed": false
      },
      "outputs": [],
      "source": [
        "conf = Configuration.from_yaml(\n    \"../../2014/2014_kerzendorf_sim/appendix_A1/tardis_example.yml\"\n)\nconf = config_modifier(conf)"
      ]
    },
    {
      "cell_type": "code",
      "execution_count": null,
      "metadata": {
        "collapsed": false
      },
      "outputs": [],
      "source": [
        "sim = run_tardis(conf)"
      ]
    },
    {
      "cell_type": "code",
      "execution_count": null,
      "metadata": {
        "collapsed": false
      },
      "outputs": [],
      "source": [
        "spectrum = sim.runner.spectrum\nspectrum_virtual = sim.runner.spectrum_virtual\nspectrum_integrated = sim.runner.spectrum_integrated\n\nplt.figure(figsize=(10, 6.5))\n\nspectrum.plot(label=\"Normal packets\")\nspectrum_virtual.plot(label=\"Virtual packets\")\nspectrum_integrated.plot(label=\"Formal integral\")\n\nplt.xlim(500, 9000)\nplt.title(\"TARDIS example model spectrum\")\nplt.xlabel(\"Wavelength [$\\AA$]\")\nplt.ylabel(\"Luminosity density [erg/s/$\\AA$]\")\nplt.legend()\nplt.show()"
      ]
    }
  ],
  "metadata": {
    "kernelspec": {
      "display_name": "Python 3",
      "language": "python",
      "name": "python3"
    },
    "language_info": {
      "codemirror_mode": {
        "name": "ipython",
        "version": 3
      },
      "file_extension": ".py",
      "mimetype": "text/x-python",
      "name": "python",
      "nbconvert_exporter": "python",
      "pygments_lexer": "ipython3",
      "version": "3.8.13"
    }
  },
  "nbformat": 4,
  "nbformat_minor": 0
}